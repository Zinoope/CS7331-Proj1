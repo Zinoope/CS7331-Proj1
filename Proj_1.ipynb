{
 "cells": [
  {
   "cell_type": "markdown",
   "id": "015dac45-c7ce-41cc-be56-97b3b3a9c2e8",
   "metadata": {},
   "source": [
    "# Proj 1 Code\n",
    "### Consulting Report is written separately\n",
    "\n",
    "\n",
    "## CRSIP-DM Format\n",
    "The crisp-dm format typically follows this format:\n",
    "- Business Understanding\n",
    "- Data Understanding\n",
    "- Data Preparation"
   ]
  },
  {
   "cell_type": "markdown",
   "id": "9e2f7038-d322-42b3-a16c-1a4e59ad68a7",
   "metadata": {},
   "source": [
    "### Business Understanding"
   ]
  },
  {
   "cell_type": "code",
   "execution_count": 1,
   "id": "992dc930-63b8-45b6-90b5-a01115fd9002",
   "metadata": {},
   "outputs": [],
   "source": [
    "import pandas as pd\n",
    "import numpy as np\n"
   ]
  },
  {
   "cell_type": "markdown",
   "id": "2de5ed9c-4765-491a-85a1-c2faadff25c7",
   "metadata": {},
   "source": [
    "### Data Understanding"
   ]
  },
  {
   "cell_type": "markdown",
   "id": "d5a42c33-b53a-4a61-a948-e78d28b5f75e",
   "metadata": {},
   "source": [
    "### Data Preparation"
   ]
  },
  {
   "cell_type": "markdown",
   "id": "5787375a-4af9-4e23-8d2e-67aa55eaf9b1",
   "metadata": {},
   "source": [
    "### Extra Work 😡"
   ]
  },
  {
   "cell_type": "markdown",
   "id": "4c1760da-a565-4d2d-b08f-b06b3e4698dd",
   "metadata": {},
   "source": []
  }
 ],
 "metadata": {
  "kernelspec": {
   "display_name": "Python 3 (ipykernel)",
   "language": "python",
   "name": "python3"
  },
  "language_info": {
   "codemirror_mode": {
    "name": "ipython",
    "version": 3
   },
   "file_extension": ".py",
   "mimetype": "text/x-python",
   "name": "python",
   "nbconvert_exporter": "python",
   "pygments_lexer": "ipython3",
   "version": "3.9.13"
  }
 },
 "nbformat": 4,
 "nbformat_minor": 5
}
